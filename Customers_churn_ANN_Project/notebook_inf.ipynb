{
  "nbformat": 4,
  "nbformat_minor": 0,
  "metadata": {
    "colab": {
      "provenance": []
    },
    "kernelspec": {
      "name": "python3",
      "display_name": "Python 3"
    },
    "language_info": {
      "name": "python"
    }
  },
  "cells": [
    {
      "cell_type": "markdown",
      "source": [
        "# Model Inference"
      ],
      "metadata": {
        "id": "pSp-MfrZUmG4"
      }
    },
    {
      "cell_type": "markdown",
      "source": [
        "saya mencoba melakukan inferencing dengan memasukkan nilai yang saya coba buat."
      ],
      "metadata": {
        "id": "ZO2THtXsatbA"
      }
    },
    {
      "cell_type": "markdown",
      "source": [
        "## Load Model"
      ],
      "metadata": {
        "id": "MvEJPiHaUrpr"
      }
    },
    {
      "cell_type": "markdown",
      "source": [
        "memasukkan library yang akan digunakan."
      ],
      "metadata": {
        "id": "DZRvJpy1azQ3"
      }
    },
    {
      "cell_type": "code",
      "execution_count": 1,
      "metadata": {
        "id": "QuLnJzv8UjZt"
      },
      "outputs": [],
      "source": [
        "# Load the Models\n",
        "\n",
        "import pandas as pd\n",
        "import pickle\n",
        "import json\n",
        "from tensorflow.keras.models import load_model\n",
        "import numpy as np\n",
        "\n",
        "with open('final_pipeline.pkl', 'rb') as file_1:\n",
        "  final_pipeline = pickle.load(file_1)\n",
        "\n",
        "with open('num_skew.txt', 'r') as file_2:\n",
        "  num_skew = json.load(file_2)\n",
        "\n",
        "with open('num_norm.txt', 'r') as file_3:\n",
        "  num_norm = json.load(file_3)\n",
        "\n",
        "with open('cat_columns.txt', 'r') as file_4:\n",
        "  cat_columns = json.load(file_4)\n",
        "\n",
        "model_ann = load_model('churn.h5')"
      ]
    },
    {
      "cell_type": "markdown",
      "source": [
        "## Inference"
      ],
      "metadata": {
        "id": "OPQm6BNzVH6S"
      }
    },
    {
      "cell_type": "markdown",
      "source": [
        "load semua data yang diperlukan untuk keperluan inferencing"
      ],
      "metadata": {
        "id": "yD6f0iqmavTe"
      }
    },
    {
      "cell_type": "code",
      "source": [
        "# Create New Data\n",
        "\n",
        "data_inf = {\n",
        "  'age': 50,\n",
        "  'gender': 'F',\n",
        "  'region_category': 'City',\n",
        "  'membership_category': 'Basic Membership',\n",
        "  'joining_date': '2015-12-23',\n",
        "  'joined_through_referral': 'Yes',\n",
        "  'preferred_offer_types':'Without Offers',\n",
        "  'medium_of_operation': 'Desktop',\n",
        "  'internet_option':'Fiber_Optic',\n",
        "  'last_visit_time': '14:28:05',\n",
        "  'days_since_last_login': 10,\n",
        "  'avg_time_spent': 56.67,\n",
        "  'avg_transaction_value':386040.69\t,\n",
        "  'avg_frequency_login_days':17.0,\n",
        "  'points_in_wallet': 722.04,\n",
        "  'used_special_discount': 'Yes',\n",
        "  'offer_application_preference': 'No',\n",
        "  'past_complaint': 'No',\n",
        "  'complaint_status': 'No Information Available',\n",
        "  'feedback': 'Poor Customer Service'\n",
        "}\n",
        "\n",
        "data_inf = pd.DataFrame([data_inf])\n",
        "data_inf"
      ],
      "metadata": {
        "colab": {
          "base_uri": "https://localhost:8080/",
          "height": 179
        },
        "id": "oUZZ5rP5VNuN",
        "outputId": "b0ff7455-a36e-4eda-c301-02cba693a5c1"
      },
      "execution_count": 2,
      "outputs": [
        {
          "output_type": "execute_result",
          "data": {
            "text/plain": [
              "   age gender region_category membership_category joining_date  \\\n",
              "0   50      F            City    Basic Membership   2015-12-23   \n",
              "\n",
              "  joined_through_referral preferred_offer_types medium_of_operation  \\\n",
              "0                     Yes        Without Offers             Desktop   \n",
              "\n",
              "  internet_option last_visit_time  days_since_last_login  avg_time_spent  \\\n",
              "0     Fiber_Optic        14:28:05                     10           56.67   \n",
              "\n",
              "   avg_transaction_value  avg_frequency_login_days  points_in_wallet  \\\n",
              "0              386040.69                      17.0            722.04   \n",
              "\n",
              "  used_special_discount offer_application_preference past_complaint  \\\n",
              "0                   Yes                           No             No   \n",
              "\n",
              "           complaint_status               feedback  \n",
              "0  No Information Available  Poor Customer Service  "
            ],
            "text/html": [
              "\n",
              "  <div id=\"df-edcfb4cc-9842-4c1f-85c0-27e41a39a090\">\n",
              "    <div class=\"colab-df-container\">\n",
              "      <div>\n",
              "<style scoped>\n",
              "    .dataframe tbody tr th:only-of-type {\n",
              "        vertical-align: middle;\n",
              "    }\n",
              "\n",
              "    .dataframe tbody tr th {\n",
              "        vertical-align: top;\n",
              "    }\n",
              "\n",
              "    .dataframe thead th {\n",
              "        text-align: right;\n",
              "    }\n",
              "</style>\n",
              "<table border=\"1\" class=\"dataframe\">\n",
              "  <thead>\n",
              "    <tr style=\"text-align: right;\">\n",
              "      <th></th>\n",
              "      <th>age</th>\n",
              "      <th>gender</th>\n",
              "      <th>region_category</th>\n",
              "      <th>membership_category</th>\n",
              "      <th>joining_date</th>\n",
              "      <th>joined_through_referral</th>\n",
              "      <th>preferred_offer_types</th>\n",
              "      <th>medium_of_operation</th>\n",
              "      <th>internet_option</th>\n",
              "      <th>last_visit_time</th>\n",
              "      <th>days_since_last_login</th>\n",
              "      <th>avg_time_spent</th>\n",
              "      <th>avg_transaction_value</th>\n",
              "      <th>avg_frequency_login_days</th>\n",
              "      <th>points_in_wallet</th>\n",
              "      <th>used_special_discount</th>\n",
              "      <th>offer_application_preference</th>\n",
              "      <th>past_complaint</th>\n",
              "      <th>complaint_status</th>\n",
              "      <th>feedback</th>\n",
              "    </tr>\n",
              "  </thead>\n",
              "  <tbody>\n",
              "    <tr>\n",
              "      <th>0</th>\n",
              "      <td>50</td>\n",
              "      <td>F</td>\n",
              "      <td>City</td>\n",
              "      <td>Basic Membership</td>\n",
              "      <td>2015-12-23</td>\n",
              "      <td>Yes</td>\n",
              "      <td>Without Offers</td>\n",
              "      <td>Desktop</td>\n",
              "      <td>Fiber_Optic</td>\n",
              "      <td>14:28:05</td>\n",
              "      <td>10</td>\n",
              "      <td>56.67</td>\n",
              "      <td>386040.69</td>\n",
              "      <td>17.0</td>\n",
              "      <td>722.04</td>\n",
              "      <td>Yes</td>\n",
              "      <td>No</td>\n",
              "      <td>No</td>\n",
              "      <td>No Information Available</td>\n",
              "      <td>Poor Customer Service</td>\n",
              "    </tr>\n",
              "  </tbody>\n",
              "</table>\n",
              "</div>\n",
              "      <button class=\"colab-df-convert\" onclick=\"convertToInteractive('df-edcfb4cc-9842-4c1f-85c0-27e41a39a090')\"\n",
              "              title=\"Convert this dataframe to an interactive table.\"\n",
              "              style=\"display:none;\">\n",
              "        \n",
              "  <svg xmlns=\"http://www.w3.org/2000/svg\" height=\"24px\"viewBox=\"0 0 24 24\"\n",
              "       width=\"24px\">\n",
              "    <path d=\"M0 0h24v24H0V0z\" fill=\"none\"/>\n",
              "    <path d=\"M18.56 5.44l.94 2.06.94-2.06 2.06-.94-2.06-.94-.94-2.06-.94 2.06-2.06.94zm-11 1L8.5 8.5l.94-2.06 2.06-.94-2.06-.94L8.5 2.5l-.94 2.06-2.06.94zm10 10l.94 2.06.94-2.06 2.06-.94-2.06-.94-.94-2.06-.94 2.06-2.06.94z\"/><path d=\"M17.41 7.96l-1.37-1.37c-.4-.4-.92-.59-1.43-.59-.52 0-1.04.2-1.43.59L10.3 9.45l-7.72 7.72c-.78.78-.78 2.05 0 2.83L4 21.41c.39.39.9.59 1.41.59.51 0 1.02-.2 1.41-.59l7.78-7.78 2.81-2.81c.8-.78.8-2.07 0-2.86zM5.41 20L4 18.59l7.72-7.72 1.47 1.35L5.41 20z\"/>\n",
              "  </svg>\n",
              "      </button>\n",
              "      \n",
              "  <style>\n",
              "    .colab-df-container {\n",
              "      display:flex;\n",
              "      flex-wrap:wrap;\n",
              "      gap: 12px;\n",
              "    }\n",
              "\n",
              "    .colab-df-convert {\n",
              "      background-color: #E8F0FE;\n",
              "      border: none;\n",
              "      border-radius: 50%;\n",
              "      cursor: pointer;\n",
              "      display: none;\n",
              "      fill: #1967D2;\n",
              "      height: 32px;\n",
              "      padding: 0 0 0 0;\n",
              "      width: 32px;\n",
              "    }\n",
              "\n",
              "    .colab-df-convert:hover {\n",
              "      background-color: #E2EBFA;\n",
              "      box-shadow: 0px 1px 2px rgba(60, 64, 67, 0.3), 0px 1px 3px 1px rgba(60, 64, 67, 0.15);\n",
              "      fill: #174EA6;\n",
              "    }\n",
              "\n",
              "    [theme=dark] .colab-df-convert {\n",
              "      background-color: #3B4455;\n",
              "      fill: #D2E3FC;\n",
              "    }\n",
              "\n",
              "    [theme=dark] .colab-df-convert:hover {\n",
              "      background-color: #434B5C;\n",
              "      box-shadow: 0px 1px 3px 1px rgba(0, 0, 0, 0.15);\n",
              "      filter: drop-shadow(0px 1px 2px rgba(0, 0, 0, 0.3));\n",
              "      fill: #FFFFFF;\n",
              "    }\n",
              "  </style>\n",
              "\n",
              "      <script>\n",
              "        const buttonEl =\n",
              "          document.querySelector('#df-edcfb4cc-9842-4c1f-85c0-27e41a39a090 button.colab-df-convert');\n",
              "        buttonEl.style.display =\n",
              "          google.colab.kernel.accessAllowed ? 'block' : 'none';\n",
              "\n",
              "        async function convertToInteractive(key) {\n",
              "          const element = document.querySelector('#df-edcfb4cc-9842-4c1f-85c0-27e41a39a090');\n",
              "          const dataTable =\n",
              "            await google.colab.kernel.invokeFunction('convertToInteractive',\n",
              "                                                     [key], {});\n",
              "          if (!dataTable) return;\n",
              "\n",
              "          const docLinkHtml = 'Like what you see? Visit the ' +\n",
              "            '<a target=\"_blank\" href=https://colab.research.google.com/notebooks/data_table.ipynb>data table notebook</a>'\n",
              "            + ' to learn more about interactive tables.';\n",
              "          element.innerHTML = '';\n",
              "          dataTable['output_type'] = 'display_data';\n",
              "          await google.colab.output.renderOutput(dataTable, element);\n",
              "          const docLink = document.createElement('div');\n",
              "          docLink.innerHTML = docLinkHtml;\n",
              "          element.appendChild(docLink);\n",
              "        }\n",
              "      </script>\n",
              "    </div>\n",
              "  </div>\n",
              "  "
            ]
          },
          "metadata": {},
          "execution_count": 2
        }
      ]
    },
    {
      "cell_type": "code",
      "source": [
        "# Transform Inference-Set\n",
        "\n",
        "data_inf_transform = final_pipeline.transform(data_inf)"
      ],
      "metadata": {
        "id": "ga-hNnbYVX7n"
      },
      "execution_count": 5,
      "outputs": []
    },
    {
      "cell_type": "code",
      "source": [
        "# Predict using Neural Network\n",
        "\n",
        "y_pred_inf = model_ann.predict(data_inf_transform)\n",
        "y_pred_inf = np.where(y_pred_inf >= 0.5, 1, 0)\n",
        "y_pred_inf"
      ],
      "metadata": {
        "colab": {
          "base_uri": "https://localhost:8080/"
        },
        "id": "3nFiV_j1VmWz",
        "outputId": "05994b7b-7aa6-4914-a879-6ea06db9a355"
      },
      "execution_count": 6,
      "outputs": [
        {
          "output_type": "stream",
          "name": "stdout",
          "text": [
            "1/1 [==============================] - 0s 22ms/step\n"
          ]
        },
        {
          "output_type": "execute_result",
          "data": {
            "text/plain": [
              "array([[0]])"
            ]
          },
          "metadata": {},
          "execution_count": 6
        }
      ]
    },
    {
      "cell_type": "markdown",
      "source": [
        "berdasarkan data dummy yang saya berikan, ternyata konsumen tersebut tidak `churn`."
      ],
      "metadata": {
        "id": "aDd7kYTwaYWy"
      }
    }
  ]
}