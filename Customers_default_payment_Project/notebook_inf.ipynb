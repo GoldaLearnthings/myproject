{
 "cells": [
  {
   "attachments": {},
   "cell_type": "markdown",
   "metadata": {},
   "source": [
    "# Model Inference"
   ]
  },
  {
   "attachments": {},
   "cell_type": "markdown",
   "metadata": {},
   "source": [
    "saya mencoba melakukan inferencing dengan memasukkan nilai yang saya coba buat."
   ]
  },
  {
   "attachments": {},
   "cell_type": "markdown",
   "metadata": {},
   "source": [
    "## import library"
   ]
  },
  {
   "cell_type": "code",
   "execution_count": 1,
   "metadata": {},
   "outputs": [],
   "source": [
    "import pickle\n",
    "import json\n",
    "import pandas as pd\n",
    "import numpy as np"
   ]
  },
  {
   "attachments": {},
   "cell_type": "markdown",
   "metadata": {},
   "source": [
    "memasukkan library yang akan digunakan."
   ]
  },
  {
   "attachments": {},
   "cell_type": "markdown",
   "metadata": {},
   "source": [
    "## load model"
   ]
  },
  {
   "cell_type": "code",
   "execution_count": 6,
   "metadata": {},
   "outputs": [],
   "source": [
    "with open('SVC.pkl', 'rb') as file_1:\n",
    "  SVC_best = pickle.load(file_1)\n",
    "\n",
    "with open('model_scaler.pkl', 'rb') as file_2:\n",
    "  model_scaler = pickle.load(file_2)\n",
    "\n",
    "with open('model_encoder.pkl','rb') as file_3:\n",
    "  model_encoder = pickle.load(file_3)\n",
    "\n",
    "with open('model_encoder_2.pkl','rb') as file_3:\n",
    "  model_encoder_2 = pickle.load(file_3)\n",
    "\n",
    "with open('list_num_cols.txt', 'r') as file_5:\n",
    "  list_num_cols = json.load(file_5)\n",
    "\n",
    "with open('list_cat_cols_OHE.txt', 'r') as file_6:\n",
    "  X_cat_OHE = json.load(file_6)\n",
    "\n",
    "with open('list_cat_cols_OE.txt', 'r') as file_7:\n",
    "  X_cat_OE = json.load(file_7)"
   ]
  },
  {
   "attachments": {},
   "cell_type": "markdown",
   "metadata": {},
   "source": [
    "load semua data yang diperlukan untuk keperluan inferencing"
   ]
  },
  {
   "attachments": {},
   "cell_type": "markdown",
   "metadata": {},
   "source": [
    "## inferencing"
   ]
  },
  {
   "cell_type": "code",
   "execution_count": 7,
   "metadata": {},
   "outputs": [
    {
     "data": {
      "text/html": [
       "<div>\n",
       "<style scoped>\n",
       "    .dataframe tbody tr th:only-of-type {\n",
       "        vertical-align: middle;\n",
       "    }\n",
       "\n",
       "    .dataframe tbody tr th {\n",
       "        vertical-align: top;\n",
       "    }\n",
       "\n",
       "    .dataframe thead th {\n",
       "        text-align: right;\n",
       "    }\n",
       "</style>\n",
       "<table border=\"1\" class=\"dataframe\">\n",
       "  <thead>\n",
       "    <tr style=\"text-align: right;\">\n",
       "      <th></th>\n",
       "      <th>limit_balance</th>\n",
       "      <th>education_level</th>\n",
       "      <th>age</th>\n",
       "      <th>bill_amt_1</th>\n",
       "      <th>bill_amt_2</th>\n",
       "      <th>bill_amt_3</th>\n",
       "      <th>bill_amt_4</th>\n",
       "      <th>bill_amt_5</th>\n",
       "      <th>bill_amt_6</th>\n",
       "      <th>pay_amt_1</th>\n",
       "      <th>...</th>\n",
       "      <th>pay_amt_5</th>\n",
       "      <th>pay_amt_6</th>\n",
       "      <th>sex</th>\n",
       "      <th>marital_status</th>\n",
       "      <th>pay_0</th>\n",
       "      <th>pay_2</th>\n",
       "      <th>pay_3</th>\n",
       "      <th>pay_4</th>\n",
       "      <th>pay_5</th>\n",
       "      <th>pay_6</th>\n",
       "    </tr>\n",
       "  </thead>\n",
       "  <tbody>\n",
       "    <tr>\n",
       "      <th>0</th>\n",
       "      <td>100000.0</td>\n",
       "      <td>3</td>\n",
       "      <td>50</td>\n",
       "      <td>110558.0</td>\n",
       "      <td>100558.0</td>\n",
       "      <td>90558.0</td>\n",
       "      <td>80558.0</td>\n",
       "      <td>70558.0</td>\n",
       "      <td>60558.0</td>\n",
       "      <td>10000</td>\n",
       "      <td>...</td>\n",
       "      <td>10000</td>\n",
       "      <td>10000</td>\n",
       "      <td>1</td>\n",
       "      <td>2</td>\n",
       "      <td>0</td>\n",
       "      <td>0</td>\n",
       "      <td>0</td>\n",
       "      <td>0</td>\n",
       "      <td>0</td>\n",
       "      <td>0</td>\n",
       "    </tr>\n",
       "  </tbody>\n",
       "</table>\n",
       "<p>1 rows × 23 columns</p>\n",
       "</div>"
      ],
      "text/plain": [
       "   limit_balance  education_level  age  bill_amt_1  bill_amt_2  bill_amt_3  \\\n",
       "0       100000.0                3   50    110558.0    100558.0     90558.0   \n",
       "\n",
       "   bill_amt_4  bill_amt_5  bill_amt_6  pay_amt_1  ...  pay_amt_5  pay_amt_6  \\\n",
       "0     80558.0     70558.0     60558.0      10000  ...      10000      10000   \n",
       "\n",
       "   sex  marital_status  pay_0  pay_2  pay_3  pay_4  pay_5  pay_6  \n",
       "0    1               2      0      0      0      0      0      0  \n",
       "\n",
       "[1 rows x 23 columns]"
      ]
     },
     "execution_count": 7,
     "metadata": {},
     "output_type": "execute_result"
    }
   ],
   "source": [
    "data_inf = {\n",
    "'limit_balance' : 100000.0, \n",
    "'education_level': 3, \n",
    "'age': 50, \n",
    "'bill_amt_1':110558.0, \n",
    "'bill_amt_2': 100558.0, \n",
    "'bill_amt_3': 90558.0, \n",
    "'bill_amt_4': 80558.0, \n",
    "'bill_amt_5': 70558.0, \n",
    "'bill_amt_6': 60558.0, \n",
    "'pay_amt_1': 10000, \n",
    "'pay_amt_2': 10000, \n",
    "'pay_amt_3': 10000, \n",
    "'pay_amt_4': 10000, \n",
    "'pay_amt_5': 10000, \n",
    "'pay_amt_6': 10000,\n",
    "'sex': 1, \n",
    "'marital_status': 2,\n",
    "'pay_0': 0, \n",
    "'pay_2': 0, \n",
    "'pay_3': 0, \n",
    "'pay_4': 0, \n",
    "'pay_5': 0, \n",
    "'pay_6': 0\n",
    "}\n",
    "\n",
    "data_inf = pd.DataFrame([data_inf])\n",
    "data_inf"
   ]
  },
  {
   "cell_type": "code",
   "execution_count": 20,
   "metadata": {},
   "outputs": [
    {
     "data": {
      "text/html": [
       "<div>\n",
       "<style scoped>\n",
       "    .dataframe tbody tr th:only-of-type {\n",
       "        vertical-align: middle;\n",
       "    }\n",
       "\n",
       "    .dataframe tbody tr th {\n",
       "        vertical-align: top;\n",
       "    }\n",
       "\n",
       "    .dataframe thead th {\n",
       "        text-align: right;\n",
       "    }\n",
       "</style>\n",
       "<table border=\"1\" class=\"dataframe\">\n",
       "  <thead>\n",
       "    <tr style=\"text-align: right;\">\n",
       "      <th></th>\n",
       "      <th>pay_0</th>\n",
       "      <th>pay_2</th>\n",
       "      <th>pay_3</th>\n",
       "      <th>pay_4</th>\n",
       "      <th>pay_5</th>\n",
       "      <th>pay_6</th>\n",
       "    </tr>\n",
       "  </thead>\n",
       "  <tbody>\n",
       "    <tr>\n",
       "      <th>0</th>\n",
       "      <td>0</td>\n",
       "      <td>0</td>\n",
       "      <td>0</td>\n",
       "      <td>0</td>\n",
       "      <td>0</td>\n",
       "      <td>0</td>\n",
       "    </tr>\n",
       "  </tbody>\n",
       "</table>\n",
       "</div>"
      ],
      "text/plain": [
       "   pay_0  pay_2  pay_3  pay_4  pay_5  pay_6\n",
       "0      0      0      0      0      0      0"
      ]
     },
     "execution_count": 20,
     "metadata": {},
     "output_type": "execute_result"
    }
   ],
   "source": [
    "# Split between Numerical Columns and Categorical Columns\n",
    "\n",
    "data_inf_num = data_inf[list_num_cols]\n",
    "data_inf_cat_OHE = data_inf[X_cat_OHE]\n",
    "data_inf_cat_OE = data_inf[X_cat_OE]\n",
    "data_inf_cat_OE"
   ]
  },
  {
   "cell_type": "code",
   "execution_count": 24,
   "metadata": {},
   "outputs": [],
   "source": [
    "# Feature Scaling and Feature Encoding\n",
    "\n",
    "data_inf_num_scaled = model_scaler.transform(data_inf_num)\n",
    "data_inf_cat_OHE_encoded = model_encoder.transform(data_inf_cat_OHE).toarray()\n",
    "data_inf_cat_OE_encoded = model_encoder_2.transform(data_inf_cat_OE)\n",
    "data_inf_final = np.concatenate([data_inf_num_scaled, data_inf_cat_OHE_encoded, data_inf_cat_OE_encoded], axis=1)"
   ]
  },
  {
   "cell_type": "code",
   "execution_count": 25,
   "metadata": {},
   "outputs": [
    {
     "data": {
      "text/plain": [
       "array([0])"
      ]
     },
     "execution_count": 25,
     "metadata": {},
     "output_type": "execute_result"
    }
   ],
   "source": [
    "# Predict using Linear Regression\n",
    "\n",
    "y_pred_inf = SVC_best.predict(data_inf_final)\n",
    "y_pred_inf"
   ]
  },
  {
   "attachments": {},
   "cell_type": "markdown",
   "metadata": {},
   "source": [
    "ternyata, dengan data `dummy` yang didapatkan. kemungkinan orang tersebut gagal bayar adalah tidak gagal membayar."
   ]
  }
 ],
 "metadata": {
  "kernelspec": {
   "display_name": "base",
   "language": "python",
   "name": "python3"
  },
  "language_info": {
   "codemirror_mode": {
    "name": "ipython",
    "version": 3
   },
   "file_extension": ".py",
   "mimetype": "text/x-python",
   "name": "python",
   "nbconvert_exporter": "python",
   "pygments_lexer": "ipython3",
   "version": "3.9.13"
  },
  "orig_nbformat": 4
 },
 "nbformat": 4,
 "nbformat_minor": 2
}
