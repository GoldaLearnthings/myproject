{
 "cells": [
  {
   "attachments": {},
   "cell_type": "markdown",
   "metadata": {},
   "source": [
    "# 10- Model Inference\n"
   ]
  },
  {
   "attachments": {},
   "cell_type": "markdown",
   "metadata": {},
   "source": [
    "saya mencoba melakukan inferencing dengan memasukkan nilai yang saya coba buat."
   ]
  },
  {
   "attachments": {},
   "cell_type": "markdown",
   "metadata": {},
   "source": [
    "## import library"
   ]
  },
  {
   "cell_type": "code",
   "execution_count": 2,
   "metadata": {},
   "outputs": [],
   "source": [
    "import pickle\n",
    "import json\n",
    "import pandas as pd\n",
    "import numpy as np"
   ]
  },
  {
   "attachments": {},
   "cell_type": "markdown",
   "metadata": {},
   "source": [
    "## load model"
   ]
  },
  {
   "cell_type": "code",
   "execution_count": 3,
   "metadata": {},
   "outputs": [],
   "source": [
    "# loding model \n",
    "\n",
    "with open('pca.pkl', 'rb') as file_1:\n",
    "  pca = pickle.load(file_1)\n",
    "\n",
    "with open('kmeans_base.pkl', 'rb') as file_2:\n",
    "  kmeans = pickle.load(file_2)\n",
    "\n",
    "with open('scaler.pkl', 'rb') as file_3:\n",
    "  scaler = pickle.load(file_3)\n",
    "\n",
    "with open('scaler_2.pkl', 'rb') as file_4:\n",
    "  scaler_2 = pickle.load(file_4)\n",
    "\n",
    "with open('list_num_cols_1.txt', 'r') as file_5:\n",
    "  df_normal = json.load(file_5)\n",
    "\n",
    "with open('list_num_cols_2.txt', 'r') as file_6:\n",
    "  df_skew = json.load(file_6)"
   ]
  },
  {
   "attachments": {},
   "cell_type": "markdown",
   "metadata": {},
   "source": [
    "load semua data yang diperlukan untuk keperluan inferencing"
   ]
  },
  {
   "cell_type": "code",
   "execution_count": 4,
   "metadata": {},
   "outputs": [
    {
     "data": {
      "text/html": [
       "<div>\n",
       "<style scoped>\n",
       "    .dataframe tbody tr th:only-of-type {\n",
       "        vertical-align: middle;\n",
       "    }\n",
       "\n",
       "    .dataframe tbody tr th {\n",
       "        vertical-align: top;\n",
       "    }\n",
       "\n",
       "    .dataframe thead th {\n",
       "        text-align: right;\n",
       "    }\n",
       "</style>\n",
       "<table border=\"1\" class=\"dataframe\">\n",
       "  <thead>\n",
       "    <tr style=\"text-align: right;\">\n",
       "      <th></th>\n",
       "      <th>BALANCE</th>\n",
       "      <th>BALANCE_FREQUENCY</th>\n",
       "      <th>PURCHASES</th>\n",
       "      <th>ONEOFF_PURCHASES</th>\n",
       "      <th>INSTALLMENTS_PURCHASES</th>\n",
       "      <th>CASH_ADVANCE</th>\n",
       "      <th>PURCHASES_FREQUENCY</th>\n",
       "      <th>ONEOFF_PURCHASES_FREQUENCY</th>\n",
       "      <th>PURCHASES_INSTALLMENTS_FREQUENCY</th>\n",
       "      <th>CASH_ADVANCE_FREQUENCY</th>\n",
       "      <th>CASH_ADVANCE_TRX</th>\n",
       "      <th>PURCHASES_TRX</th>\n",
       "      <th>CREDIT_LIMIT</th>\n",
       "      <th>PAYMENTS</th>\n",
       "      <th>MINIMUM_PAYMENTS</th>\n",
       "      <th>PRC_FULL_PAYMENT</th>\n",
       "      <th>TENURE</th>\n",
       "    </tr>\n",
       "  </thead>\n",
       "  <tbody>\n",
       "    <tr>\n",
       "      <th>0</th>\n",
       "      <td>2196.006333</td>\n",
       "      <td>0.818182</td>\n",
       "      <td>200.0</td>\n",
       "      <td>2588.53</td>\n",
       "      <td>0.0</td>\n",
       "      <td>201.404735</td>\n",
       "      <td>0.083333</td>\n",
       "      <td>0.083333</td>\n",
       "      <td>0.083333</td>\n",
       "      <td>0.25</td>\n",
       "      <td>4</td>\n",
       "      <td>12</td>\n",
       "      <td>6500.0</td>\n",
       "      <td>1781.472773</td>\n",
       "      <td>280.724848</td>\n",
       "      <td>0.1</td>\n",
       "      <td>12</td>\n",
       "    </tr>\n",
       "  </tbody>\n",
       "</table>\n",
       "</div>"
      ],
      "text/plain": [
       "       BALANCE  BALANCE_FREQUENCY  PURCHASES  ONEOFF_PURCHASES  \\\n",
       "0  2196.006333           0.818182      200.0           2588.53   \n",
       "\n",
       "   INSTALLMENTS_PURCHASES  CASH_ADVANCE  PURCHASES_FREQUENCY  \\\n",
       "0                     0.0    201.404735             0.083333   \n",
       "\n",
       "   ONEOFF_PURCHASES_FREQUENCY  PURCHASES_INSTALLMENTS_FREQUENCY  \\\n",
       "0                    0.083333                          0.083333   \n",
       "\n",
       "   CASH_ADVANCE_FREQUENCY  CASH_ADVANCE_TRX  PURCHASES_TRX  CREDIT_LIMIT  \\\n",
       "0                    0.25                 4             12        6500.0   \n",
       "\n",
       "      PAYMENTS  MINIMUM_PAYMENTS  PRC_FULL_PAYMENT  TENURE  \n",
       "0  1781.472773        280.724848               0.1      12  "
      ]
     },
     "execution_count": 4,
     "metadata": {},
     "output_type": "execute_result"
    }
   ],
   "source": [
    "# Create New Data\n",
    "\n",
    "data_inf = {\n",
    "'BALANCE': 2196.006333, \n",
    "'BALANCE_FREQUENCY': 0.818182, \n",
    "'PURCHASES': 200.00, \n",
    "'ONEOFF_PURCHASES': 2588.53,\n",
    "'INSTALLMENTS_PURCHASES': 0.00, \n",
    "'CASH_ADVANCE': 201.404735, \n",
    "'PURCHASES_FREQUENCY': 0.083333,\n",
    "'ONEOFF_PURCHASES_FREQUENCY': 0.083333, \n",
    "'PURCHASES_INSTALLMENTS_FREQUENCY': 0.083333,\n",
    "'CASH_ADVANCE_FREQUENCY': 0.250000, \n",
    "'CASH_ADVANCE_TRX': 4, \n",
    "'PURCHASES_TRX': 12,\n",
    "'CREDIT_LIMIT': 6500.0, \n",
    "'PAYMENTS': 1781.472773, \n",
    "'MINIMUM_PAYMENTS': 280.724848, \n",
    "'PRC_FULL_PAYMENT': 0.100000,\n",
    "'TENURE': 12\n",
    "}\n",
    "\n",
    "data_inf = pd.DataFrame([data_inf])\n",
    "data_inf"
   ]
  },
  {
   "cell_type": "code",
   "execution_count": 7,
   "metadata": {},
   "outputs": [],
   "source": [
    "# Memisahkan data_inf berdasarkan jenis datanya untuk keperluan normalisasi dan encoding\n",
    "\n",
    "data_inf_norm = data_inf[df_normal]\n",
    "data_inf_skew = data_inf[df_skew]"
   ]
  },
  {
   "cell_type": "code",
   "execution_count": 8,
   "metadata": {},
   "outputs": [],
   "source": [
    "# Melakukan normalisasi (feature scaling) data_inf_norm & data_inf_skew\n",
    "\n",
    "data_inf_norm_scaled = scaler.transform(data_inf_norm)\n",
    "data_inf_skew_scaled = scaler_2.transform(data_inf_skew)"
   ]
  },
  {
   "cell_type": "code",
   "execution_count": 11,
   "metadata": {},
   "outputs": [],
   "source": [
    "data_inf_final = np.concatenate([data_inf_norm_scaled, data_inf_skew_scaled], axis=1)"
   ]
  },
  {
   "cell_type": "code",
   "execution_count": 12,
   "metadata": {},
   "outputs": [],
   "source": [
    "data_inf_scaled_pca = pca.transform(data_inf_final)"
   ]
  },
  {
   "cell_type": "code",
   "execution_count": 13,
   "metadata": {},
   "outputs": [
    {
     "data": {
      "text/plain": [
       "array([0], dtype=int32)"
      ]
     },
     "execution_count": 13,
     "metadata": {},
     "output_type": "execute_result"
    }
   ],
   "source": [
    "# Predict using Kmeans\n",
    "\n",
    "y_pred_inf = kmeans.predict(data_inf_scaled_pca)\n",
    "y_pred_inf"
   ]
  },
  {
   "attachments": {},
   "cell_type": "markdown",
   "metadata": {},
   "source": [
    "didapati bahwa data inference nya masuk pada label 0"
   ]
  }
 ],
 "metadata": {
  "kernelspec": {
   "display_name": "base",
   "language": "python",
   "name": "python3"
  },
  "language_info": {
   "codemirror_mode": {
    "name": "ipython",
    "version": 3
   },
   "file_extension": ".py",
   "mimetype": "text/x-python",
   "name": "python",
   "nbconvert_exporter": "python",
   "pygments_lexer": "ipython3",
   "version": "3.9.13"
  },
  "orig_nbformat": 4
 },
 "nbformat": 4,
 "nbformat_minor": 2
}
